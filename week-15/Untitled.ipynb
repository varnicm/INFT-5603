{
 "cells": [
  {
   "cell_type": "code",
   "execution_count": 11,
   "id": "435e206c",
   "metadata": {},
   "outputs": [
    {
     "data": {
      "text/plain": [
       "-3"
      ]
     },
     "execution_count": 11,
     "metadata": {},
     "output_type": "execute_result"
    }
   ],
   "source": [
    "k = [7, -3, 0, 1, 9, 2, 1]\n",
    "#second_element\n",
    "K[1]"
   ]
  },
  {
   "cell_type": "code",
   "execution_count": 12,
   "id": "b97351d1",
   "metadata": {},
   "outputs": [
    {
     "data": {
      "text/plain": [
       "[9, 2, 1]"
      ]
     },
     "execution_count": 12,
     "metadata": {},
     "output_type": "execute_result"
    }
   ],
   "source": [
    "#last_three_elements = \n",
    "k[-3:] "
   ]
  },
  {
   "cell_type": "code",
   "execution_count": 13,
   "id": "738d750e",
   "metadata": {},
   "outputs": [
    {
     "data": {
      "text/plain": [
       "7"
      ]
     },
     "execution_count": 13,
     "metadata": {},
     "output_type": "execute_result"
    }
   ],
   "source": [
    "#size_of_list\n",
    "len(k)"
   ]
  },
  {
   "cell_type": "code",
   "execution_count": 14,
   "id": "bd6311ee",
   "metadata": {},
   "outputs": [
    {
     "name": "stdout",
     "output_type": "stream",
     "text": [
      "[7, -3, 0, 1, 9, 2, 1, 25]\n"
     ]
    }
   ],
   "source": [
    "# Insert 25 to the end of the list\n",
    "k.append(25)\n",
    "print(k)"
   ]
  },
  {
   "cell_type": "code",
   "execution_count": 15,
   "id": "b8bb3a74",
   "metadata": {},
   "outputs": [
    {
     "name": "stdout",
     "output_type": "stream",
     "text": [
      "[7, -3, 0, 1, 9, 2, 1]\n"
     ]
    }
   ],
   "source": [
    "#Remove the last element of the list\n",
    "k.pop()\n",
    "print(k)"
   ]
  },
  {
   "cell_type": "code",
   "execution_count": 16,
   "id": "3fdfc311",
   "metadata": {},
   "outputs": [
    {
     "data": {
      "text/plain": [
       "[7, -3, 0, 1, 9, 2, 1, 6, 5, -2, 9, 0]"
      ]
     },
     "execution_count": 16,
     "metadata": {},
     "output_type": "execute_result"
    }
   ],
   "source": [
    "#Concatenate the list \n",
    "l = [6, 5, -2, 9, 0]\n",
    "concatenated_list = k + l  \n",
    "concatenated_list"
   ]
  },
  {
   "cell_type": "code",
   "execution_count": null,
   "id": "9d641239",
   "metadata": {},
   "outputs": [],
   "source": [
    "\n"
   ]
  },
  {
   "cell_type": "code",
   "execution_count": 19,
   "id": "7bfb472e",
   "metadata": {},
   "outputs": [
    {
     "name": "stdout",
     "output_type": "stream",
     "text": [
      "The average is: 226.5\n"
     ]
    }
   ],
   "source": [
    "def average_of_two_numbers(num1, num2):\n",
    "    return (num1 + num2) / 2\n",
    "\n",
    "\n",
    "result = average_of_two_numbers(374, 79)\n",
    "print(\"The average is:\", result)\n"
   ]
  },
  {
   "cell_type": "code",
   "execution_count": 20,
   "id": "0d7beae4",
   "metadata": {},
   "outputs": [
    {
     "name": "stdout",
     "output_type": "stream",
     "text": [
      "[[3 1]\n",
      " [3 3]]\n"
     ]
    }
   ],
   "source": [
    "from sklearn.metrics import confusion_matrix\n",
    "\n",
    "actual = [0, 1, 1, 1, 0, 0, 1, 1, 0, 1]\n",
    "predicted = [0, 1, 0, 1, 0, 0, 1, 0, 1, 0]\n",
    "\n",
    "conf_matrix = confusion_matrix(actual, predicted)\n",
    "\n",
    "print(conf_matrix)\n"
   ]
  },
  {
   "cell_type": "code",
   "execution_count": 23,
   "id": "01a11b25",
   "metadata": {},
   "outputs": [
    {
     "data": {
      "text/plain": [
       "[[3, 1], [3, 3]]"
      ]
     },
     "execution_count": 23,
     "metadata": {},
     "output_type": "execute_result"
    }
   ],
   "source": [
    "#without using sklearn\n",
    "\n",
    "actual = [0, 1, 1, 1, 0, 0, 1, 1, 0, 1]\n",
    "predicted = [0, 1, 0, 1, 0, 0, 1, 0, 1, 0]\n",
    "\n",
    "\n",
    "true_positive = 0\n",
    "true_negative = 0\n",
    "false_positive = 0\n",
    "false_negative = 0\n",
    "\n",
    "\n",
    "for i in range(len(actual)):\n",
    "    if actual[i] == predicted[i] == 1:\n",
    "        true_positive += 1\n",
    "    elif actual[i] == predicted[i] == 0:\n",
    "        true_negative += 1\n",
    "    elif actual[i] == 0 and predicted[i] == 1:\n",
    "        false_positive += 1\n",
    "    elif actual[i] == 1 and predicted[i] == 0:\n",
    "        false_negative += 1\n",
    "\n",
    "#confusion matrix\n",
    "conf_matrix = [[true_negative, false_positive], [false_negative, true_positive]]\n",
    "conf_matrix"
   ]
  },
  {
   "cell_type": "code",
   "execution_count": 25,
   "id": "0ecb2de4",
   "metadata": {},
   "outputs": [
    {
     "name": "stdout",
     "output_type": "stream",
     "text": [
      "Results for k=2:\n",
      "Labels: [1 0 0 0 1 0 0 0 1 1]\n",
      "Centers: [[20.83333333 28.66666667]\n",
      " [75.75       54.25      ]]\n",
      "Results for k=3:\n",
      "Labels: [2 0 0 0 2 0 0 0 1 1]\n",
      "Centers: [[20.83333333 28.66666667]\n",
      " [61.         85.        ]\n",
      " [90.5        23.5       ]]\n"
     ]
    }
   ],
   "source": [
    "from sklearn.cluster import KMeans\n",
    "import numpy as np\n",
    "\n",
    "data = {'x': [94, 31, 26, 10, 87, 0, 22, 36, 55, 67],\n",
    "        'y': [12, 23, 0, 31, 35, 45, 30, 43, 92, 78]}\n",
    "\n",
    "points = np.array(list(zip(data['x'], data['y'])))\n",
    "\n",
    "kmeans_2 = KMeans(n_clusters=2, n_init=10)\n",
    "kmeans_2.fit(points)\n",
    "labels_2 = kmeans_2.labels_\n",
    "centers_2 = kmeans_2.cluster_centers_\n",
    "\n",
    "kmeans_3 = KMeans(n_clusters=3, n_init=10)\n",
    "kmeans_3.fit(points)\n",
    "labels_3 = kmeans_3.labels_\n",
    "centers_3 = kmeans_3.cluster_centers_\n",
    "\n",
    "print(\"Results for k=2:\")\n",
    "print(\"Labels:\", labels_2)\n",
    "print(\"Centers:\", centers_2)\n",
    "\n",
    "print(\"Results for k=3:\")\n",
    "print(\"Labels:\", labels_3)\n",
    "print(\"Centers:\", centers_3)"
   ]
  },
  {
   "cell_type": "code",
   "execution_count": 26,
   "id": "9eb66e39",
   "metadata": {},
   "outputs": [
    {
     "data": {
      "text/plain": [
       "array([0, 2])"
      ]
     },
     "execution_count": 26,
     "metadata": {},
     "output_type": "execute_result"
    }
   ],
   "source": [
    "from sklearn.neural_network import MLPClassifier\n",
    "from sklearn.datasets import load_iris\n",
    "from sklearn.model_selection import train_test_split\n",
    "from sklearn.preprocessing import StandardScaler\n",
    "\n",
    "iris = load_iris()\n",
    "x, y = iris.data, iris.target\n",
    "\n",
    "x_train, x_test, y_train, y_test = train_test_split(x, y, random_state=1)\n",
    "\n",
    "scaler = StandardScaler()\n",
    "scaler.fit(x_train)\n",
    "\n",
    "x_train_scaled = scaler.transform(x_train)\n",
    "x_test_scaled = scaler.transform(x_test)\n",
    "\n",
    "mlp = MLPClassifier(hidden_layer_sizes=(15, 20, 15), max_iter=1000, random_state=1)\n",
    "\n",
    "mlp.fit(x_train_scaled, y_train)\n",
    "\n",
    "test_samples = [[5.2, 4.9, 2.0, 5.3], [4.8, 3.2, 5.7, 4.6]]\n",
    "\n",
    "test_samples_scaled = scaler.transform(test_samples)\n",
    "\n",
    "predictions = mlp.predict(test_samples_scaled)\n",
    "\n",
    "predictions\n"
   ]
  },
  {
   "cell_type": "code",
   "execution_count": null,
   "id": "ff63bfe9",
   "metadata": {},
   "outputs": [],
   "source": []
  }
 ],
 "metadata": {
  "kernelspec": {
   "display_name": "Python 3 (ipykernel)",
   "language": "python",
   "name": "python3"
  },
  "language_info": {
   "codemirror_mode": {
    "name": "ipython",
    "version": 3
   },
   "file_extension": ".py",
   "mimetype": "text/x-python",
   "name": "python",
   "nbconvert_exporter": "python",
   "pygments_lexer": "ipython3",
   "version": "3.11.4"
  }
 },
 "nbformat": 4,
 "nbformat_minor": 5
}
