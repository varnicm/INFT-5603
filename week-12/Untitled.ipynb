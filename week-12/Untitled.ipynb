{
 "cells": [
  {
   "cell_type": "code",
   "execution_count": 7,
   "id": "eac49339",
   "metadata": {},
   "outputs": [
    {
     "name": "stdout",
     "output_type": "stream",
     "text": [
      "[2]\n",
      "[2]\n"
     ]
    }
   ],
   "source": [
    "\n",
    "import pandas as pd\n",
    "from sklearn import preprocessing\n",
    "from sklearn.preprocessing import StandardScaler \n",
    "from sklearn.neural_network import MLPClassifier\n",
    "\n",
    "\n",
    "url=\"https://archive.ics.uci.edu/ml/machine-learning-databases/iris/iris.data\"\n",
    "names = ['sepal-length', 'sepal-width', 'petal-length', 'petal-width', 'Class'] \n",
    "\n",
    "irisdata = pd.read_csv(url, names=names)\n",
    "x = irisdata.iloc[:, 0:4]\n",
    "y=irisdata.select_dtypes (include=[object])\n",
    "\n",
    "# Label encoding\n",
    "labelEncoder=preprocessing.LabelEncoder()\n",
    "y = y.apply(labelEncoder.fit_transform)\n",
    "\n",
    "# Feature scaling\n",
    "scaler = StandardScaler() \n",
    "scaler.fit(x)\n",
    "x = scaler.transform(x)\n",
    "\n",
    "\n",
    "\n",
    "# Create and train neural network\n",
    "mlp = MLPClassifier(hidden_layer_sizes=(20, 20, 20), max_iter=2000) \n",
    "mlp.fit(x, y.values.ravel())\n",
    "\n",
    "# Do two predictions (This is testing part)\n",
    "predictions1=mlp.predict( [[3.2, 1.9, 4.0, 5.2]] )\n",
    "print(predictions1)\n",
    "\n",
    "predictions2 = mlp.predict( [[4.1, 3.8, 2.3, 4.6]] ) \n",
    "print(predictions2)\n"
   ]
  },
  {
   "cell_type": "code",
   "execution_count": null,
   "id": "cbde4e80",
   "metadata": {},
   "outputs": [],
   "source": []
  }
 ],
 "metadata": {
  "kernelspec": {
   "display_name": "Python 3 (ipykernel)",
   "language": "python",
   "name": "python3"
  },
  "language_info": {
   "codemirror_mode": {
    "name": "ipython",
    "version": 3
   },
   "file_extension": ".py",
   "mimetype": "text/x-python",
   "name": "python",
   "nbconvert_exporter": "python",
   "pygments_lexer": "ipython3",
   "version": "3.11.4"
  }
 },
 "nbformat": 4,
 "nbformat_minor": 5
}
